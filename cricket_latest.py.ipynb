{
 "cells": [
  {
   "cell_type": "code",
   "execution_count": 77,
   "id": "1acf5a11-64f0-4741-aed3-20377712f31c",
   "metadata": {
    "id": "1acf5a11-64f0-4741-aed3-20377712f31c"
   },
   "outputs": [],
   "source": [
    "import pandas as pd\n",
    "from sklearn.model_selection import train_test_split, RandomizedSearchCV, GridSearchCV\n",
    "from sklearn.preprocessing import LabelEncoder\n",
    "from sklearn.impute import SimpleImputer\n",
    "from xgboost import XGBClassifier\n",
    "from sklearn.metrics import accuracy_score\n",
    "from scipy.stats import uniform, randint"
   ]
  },
  {
   "cell_type": "code",
   "execution_count": 95,
   "id": "246fa246-31cd-4772-8f27-cd33fb013c97",
   "metadata": {
    "id": "246fa246-31cd-4772-8f27-cd33fb013c97"
   },
   "outputs": [],
   "source": [
    "# Load the data\n",
    "file_path = 'train data.csv'\n",
    "data = pd.read_csv(file_path)\n",
    "batsman_data = pd.read_csv('batsman.csv')\n",
    "batsman_data = batsman_data.ffill()\n",
    "bowler_data = pd.read_csv('bowler.csv')\n",
    "bowler_data = bowler_data.ffill()\n",
    "test_data = pd.read_csv('test data.csv')\n",
    "test_data = test_data.ffill()"
   ]
  },
  {
   "cell_type": "code",
   "execution_count": 96,
   "id": "a25443a7-1f11-4de0-bb8c-293b984bd917",
   "metadata": {
    "id": "a25443a7-1f11-4de0-bb8c-293b984bd917"
   },
   "outputs": [
    {
     "data": {
      "text/plain": [
       "\"\\ndef calculate_average_strike_rate(roster, match_id, batsman_data):\\n    batsman_ids = [int(float(bid)) for bid in roster.split(':')]\\n    strike_rates = batsman_data[(batsman_data['match id'] == match_id) & (batsman_data['batsman_id'].isin(batsman_ids))]['strike_rate']\\n    return strike_rates.mean() if not strike_rates.empty else 0\\ndef calculate_average_economy(roster, match_id, bowler_data):\\n    bowler_ids = [int(float(bid)) for bid in roster.split(':')]\\n    economy_rates = bowler_data[(bowler_data['match id'] == match_id) & (bowler_data['bowler_id'].isin(bowler_ids))]['economy']\\n    return economy_rates.mean() if not economy_rates.empty else 0\\n# Add new columns for average strike rates\\ndata['team1_avg_strike_rate'] = data.apply(lambda row: calculate_average_strike_rate(row['team1_roster_ids'], row['match id'], batsman_data), axis=1)\\ndata['team2_avg_strike_rate'] = data.apply(lambda row: calculate_average_strike_rate(row['team2_roster_ids'], row['match id'], batsman_data), axis=1)\\ndata['team1_avg_economy'] = data.apply(lambda row: calculate_average_economy(row['team1_roster_ids'], row['match id'], bowler_data), axis=1)\\ndata['team2_avg_economy'] = data.apply(lambda row: calculate_average_economy(row['team2_roster_ids'], row['match id'], bowler_data), axis=1)\\ntest_data['team1_avg_strike_rate'] = test_data.apply(lambda row: calculate_average_strike_rate(row['team1_roster_ids'], row['match id'], batsman_data), axis=1)\\ntest_data['team2_avg_strike_rate'] = test_data.apply(lambda row: calculate_average_strike_rate(row['team2_roster_ids'], row['match id'], batsman_data), axis=1)\\ntest_data['team1_avg_economy'] = test_data.apply(lambda row: calculate_average_economy(row['team1_roster_ids'], row['match id'], bowler_data), axis=1)\\ntest_data['team2_avg_economy'] = test_data.apply(lambda row: calculate_average_economy(row['team2_roster_ids'], row['match id'], bowler_data), axis=1)\\n\""
      ]
     },
     "execution_count": 96,
     "metadata": {},
     "output_type": "execute_result"
    }
   ],
   "source": [
    "'''\n",
    "def calculate_average_strike_rate(roster, match_id, batsman_data):\n",
    "    batsman_ids = [int(float(bid)) for bid in roster.split(':')]\n",
    "    strike_rates = batsman_data[(batsman_data['match id'] == match_id) & (batsman_data['batsman_id'].isin(batsman_ids))]['strike_rate']\n",
    "    return strike_rates.mean() if not strike_rates.empty else 0\n",
    "def calculate_average_economy(roster, match_id, bowler_data):\n",
    "    bowler_ids = [int(float(bid)) for bid in roster.split(':')]\n",
    "    economy_rates = bowler_data[(bowler_data['match id'] == match_id) & (bowler_data['bowler_id'].isin(bowler_ids))]['economy']\n",
    "    return economy_rates.mean() if not economy_rates.empty else 0\n",
    "# Add new columns for average strike rates\n",
    "data['team1_avg_strike_rate'] = data.apply(lambda row: calculate_average_strike_rate(row['team1_roster_ids'], row['match id'], batsman_data), axis=1)\n",
    "data['team2_avg_strike_rate'] = data.apply(lambda row: calculate_average_strike_rate(row['team2_roster_ids'], row['match id'], batsman_data), axis=1)\n",
    "data['team1_avg_economy'] = data.apply(lambda row: calculate_average_economy(row['team1_roster_ids'], row['match id'], bowler_data), axis=1)\n",
    "data['team2_avg_economy'] = data.apply(lambda row: calculate_average_economy(row['team2_roster_ids'], row['match id'], bowler_data), axis=1)\n",
    "test_data['team1_avg_strike_rate'] = test_data.apply(lambda row: calculate_average_strike_rate(row['team1_roster_ids'], row['match id'], batsman_data), axis=1)\n",
    "test_data['team2_avg_strike_rate'] = test_data.apply(lambda row: calculate_average_strike_rate(row['team2_roster_ids'], row['match id'], batsman_data), axis=1)\n",
    "test_data['team1_avg_economy'] = test_data.apply(lambda row: calculate_average_economy(row['team1_roster_ids'], row['match id'], bowler_data), axis=1)\n",
    "test_data['team2_avg_economy'] = test_data.apply(lambda row: calculate_average_economy(row['team2_roster_ids'], row['match id'], bowler_data), axis=1)\n",
    "'''"
   ]
  },
  {
   "cell_type": "code",
   "execution_count": 97,
   "id": "96b4b5e8-a332-414d-9752-2b71f618a2b4",
   "metadata": {},
   "outputs": [],
   "source": [
    "def calculate_average_strike_rate(roster, batsman_data):\n",
    "    batsman_ids = [int(float(bid)) for bid in roster.split(':')]\n",
    "    strike_rates = batsman_data[batsman_data['batsman_id'].isin(batsman_ids)]['strike_rate']\n",
    "    return strike_rates.mean() if not strike_rates.empty else 0\n",
    "def calculate_average_economy(roster, bowler_data):\n",
    "    bowler_ids = [int(float(bid)) for bid in roster.split(':')]\n",
    "    economy_rates = bowler_data[bowler_data['bowler_id'].isin(bowler_ids)]['economy']\n",
    "    return economy_rates.mean() if not economy_rates.empty else 0\n",
    "# Add new columns for average strike rates\n",
    "data['team1_avg_strike_rate'] = data.apply(lambda row: calculate_average_strike_rate(row['team1_roster_ids'], batsman_data), axis=1)\n",
    "data['team2_avg_strike_rate'] = data.apply(lambda row: calculate_average_strike_rate(row['team2_roster_ids'], batsman_data), axis=1)\n",
    "data['team1_avg_economy'] = data.apply(lambda row: calculate_average_economy(row['team1_roster_ids'], bowler_data), axis=1)\n",
    "data['team2_avg_economy'] = data.apply(lambda row: calculate_average_economy(row['team2_roster_ids'], bowler_data), axis=1)\n",
    "test_data['team1_avg_strike_rate'] = test_data.apply(lambda row: calculate_average_strike_rate(row['team1_roster_ids'], batsman_data), axis=1)\n",
    "test_data['team2_avg_strike_rate'] = test_data.apply(lambda row: calculate_average_strike_rate(row['team2_roster_ids'], batsman_data), axis=1)\n",
    "test_data['team1_avg_economy'] = test_data.apply(lambda row: calculate_average_economy(row['team1_roster_ids'],  bowler_data), axis=1)\n",
    "test_data['team2_avg_economy'] = test_data.apply(lambda row: calculate_average_economy(row['team2_roster_ids'], bowler_data), axis=1)"
   ]
  },
  {
   "cell_type": "code",
   "execution_count": 99,
   "id": "f7ab01e9-0a9d-43e7-9ec2-c903a2e088fd",
   "metadata": {
    "colab": {
     "base_uri": "https://localhost:8080/",
     "height": 290
    },
    "id": "f7ab01e9-0a9d-43e7-9ec2-c903a2e088fd",
    "outputId": "3ec3d362-77a4-4297-bba9-db0c793f3b69"
   },
   "outputs": [
    {
     "data": {
      "text/html": [
       "<div>\n",
       "<style scoped>\n",
       "    .dataframe tbody tr th:only-of-type {\n",
       "        vertical-align: middle;\n",
       "    }\n",
       "\n",
       "    .dataframe tbody tr th {\n",
       "        vertical-align: top;\n",
       "    }\n",
       "\n",
       "    .dataframe thead th {\n",
       "        text-align: right;\n",
       "    }\n",
       "</style>\n",
       "<table border=\"1\" class=\"dataframe\">\n",
       "  <thead>\n",
       "    <tr style=\"text-align: right;\">\n",
       "      <th></th>\n",
       "      <th>match id</th>\n",
       "      <th>team1</th>\n",
       "      <th>team1_id</th>\n",
       "      <th>team1_roster_ids</th>\n",
       "      <th>team2</th>\n",
       "      <th>team2_id</th>\n",
       "      <th>team2_roster_ids</th>\n",
       "      <th>toss winner</th>\n",
       "      <th>toss decision</th>\n",
       "      <th>venue</th>\n",
       "      <th>...</th>\n",
       "      <th>ground_id</th>\n",
       "      <th>team_count_50runs_last15</th>\n",
       "      <th>team_winp_last5</th>\n",
       "      <th>team1only_avg_runs_last15</th>\n",
       "      <th>team1_winp_team2_last15</th>\n",
       "      <th>ground_avg_runs_last15</th>\n",
       "      <th>team1_avg_strike_rate</th>\n",
       "      <th>team2_avg_strike_rate</th>\n",
       "      <th>team1_avg_economy</th>\n",
       "      <th>team2_avg_economy</th>\n",
       "    </tr>\n",
       "  </thead>\n",
       "  <tbody>\n",
       "    <tr>\n",
       "      <th>0</th>\n",
       "      <td>9250275</td>\n",
       "      <td>Jy</td>\n",
       "      <td>28594</td>\n",
       "      <td>7438955.0:8271969.0:8369661.0:3685247.0:259025...</td>\n",
       "      <td>Ud Ss of Aa</td>\n",
       "      <td>90</td>\n",
       "      <td>2436944.0:8117500.0:6703528.0:3010748.0:161387...</td>\n",
       "      <td>Ud Ss of Aa</td>\n",
       "      <td>field</td>\n",
       "      <td>Bo Ac Cb</td>\n",
       "      <td>...</td>\n",
       "      <td>3226</td>\n",
       "      <td>0.000000</td>\n",
       "      <td>0.019608</td>\n",
       "      <td>NaN</td>\n",
       "      <td>0.00</td>\n",
       "      <td>NaN</td>\n",
       "      <td>127.696250</td>\n",
       "      <td>110.605610</td>\n",
       "      <td>6.707500</td>\n",
       "      <td>8.436944</td>\n",
       "    </tr>\n",
       "    <tr>\n",
       "      <th>1</th>\n",
       "      <td>9262189</td>\n",
       "      <td>Ga An Ws</td>\n",
       "      <td>36084</td>\n",
       "      <td>3715690.0:6818622.0:4069666.0:393014.0:4690188...</td>\n",
       "      <td>Ja Ts</td>\n",
       "      <td>36098</td>\n",
       "      <td>4690258.0:3761246.0:8464385.0:5742470.0:315072...</td>\n",
       "      <td>Ja Ts</td>\n",
       "      <td>field</td>\n",
       "      <td>Pe Sm Ga</td>\n",
       "      <td>...</td>\n",
       "      <td>13915</td>\n",
       "      <td>0.615385</td>\n",
       "      <td>0.344262</td>\n",
       "      <td>151.285714</td>\n",
       "      <td>66.67</td>\n",
       "      <td>153.500</td>\n",
       "      <td>120.895835</td>\n",
       "      <td>115.088116</td>\n",
       "      <td>8.094824</td>\n",
       "      <td>7.917769</td>\n",
       "    </tr>\n",
       "    <tr>\n",
       "      <th>2</th>\n",
       "      <td>9128776</td>\n",
       "      <td>Rn Rs</td>\n",
       "      <td>30428</td>\n",
       "      <td>8058959.0:2162782.0:2981614.0:7833195.0:755605...</td>\n",
       "      <td>Lw Sr Gs</td>\n",
       "      <td>48334</td>\n",
       "      <td>2654014.0:2954769.0:8058903.0:3479860.0:329940...</td>\n",
       "      <td>Rn Rs</td>\n",
       "      <td>bat</td>\n",
       "      <td>Be Sm Mi</td>\n",
       "      <td>...</td>\n",
       "      <td>2764</td>\n",
       "      <td>0.842105</td>\n",
       "      <td>0.753086</td>\n",
       "      <td>171.066667</td>\n",
       "      <td>100.00</td>\n",
       "      <td>179.625</td>\n",
       "      <td>119.908054</td>\n",
       "      <td>115.264369</td>\n",
       "      <td>8.485485</td>\n",
       "      <td>8.224095</td>\n",
       "    </tr>\n",
       "    <tr>\n",
       "      <th>3</th>\n",
       "      <td>9586919</td>\n",
       "      <td>Ja Ts</td>\n",
       "      <td>36098</td>\n",
       "      <td>4690258.0:8464385.0:1613898.0:5744780.0:315072...</td>\n",
       "      <td>St La Ks</td>\n",
       "      <td>36112</td>\n",
       "      <td>2331475.0:313809.0:391103.0:2742837.0:2097017....</td>\n",
       "      <td>St La Ks</td>\n",
       "      <td>field</td>\n",
       "      <td>Dn Sy Nl Ct Sm Gs It St La</td>\n",
       "      <td>...</td>\n",
       "      <td>11892</td>\n",
       "      <td>0.285714</td>\n",
       "      <td>1.487805</td>\n",
       "      <td>166.000000</td>\n",
       "      <td>75.00</td>\n",
       "      <td>155.500</td>\n",
       "      <td>110.809852</td>\n",
       "      <td>116.571064</td>\n",
       "      <td>7.582842</td>\n",
       "      <td>8.071719</td>\n",
       "    </tr>\n",
       "    <tr>\n",
       "      <th>4</th>\n",
       "      <td>9128538</td>\n",
       "      <td>Ci Sr Ks</td>\n",
       "      <td>30414</td>\n",
       "      <td>7422673.0:249087.0:62432.0:232000.0:5001170.0:...</td>\n",
       "      <td>Gt Ts</td>\n",
       "      <td>48341</td>\n",
       "      <td>1958683.0:7491224.0:3339160.0:5452754.0:225245...</td>\n",
       "      <td>Gt Ts</td>\n",
       "      <td>field</td>\n",
       "      <td>Ma Ct An Sm Pe</td>\n",
       "      <td>...</td>\n",
       "      <td>18752</td>\n",
       "      <td>2.375000</td>\n",
       "      <td>0.310330</td>\n",
       "      <td>169.933333</td>\n",
       "      <td>0.00</td>\n",
       "      <td>164.125</td>\n",
       "      <td>121.387657</td>\n",
       "      <td>112.850781</td>\n",
       "      <td>8.109003</td>\n",
       "      <td>7.757143</td>\n",
       "    </tr>\n",
       "  </tbody>\n",
       "</table>\n",
       "<p>5 rows × 25 columns</p>\n",
       "</div>"
      ],
      "text/plain": [
       "   match id     team1  team1_id  \\\n",
       "0   9250275        Jy     28594   \n",
       "1   9262189  Ga An Ws     36084   \n",
       "2   9128776     Rn Rs     30428   \n",
       "3   9586919     Ja Ts     36098   \n",
       "4   9128538  Ci Sr Ks     30414   \n",
       "\n",
       "                                    team1_roster_ids        team2  team2_id  \\\n",
       "0  7438955.0:8271969.0:8369661.0:3685247.0:259025...  Ud Ss of Aa        90   \n",
       "1  3715690.0:6818622.0:4069666.0:393014.0:4690188...        Ja Ts     36098   \n",
       "2  8058959.0:2162782.0:2981614.0:7833195.0:755605...     Lw Sr Gs     48334   \n",
       "3  4690258.0:8464385.0:1613898.0:5744780.0:315072...     St La Ks     36112   \n",
       "4  7422673.0:249087.0:62432.0:232000.0:5001170.0:...        Gt Ts     48341   \n",
       "\n",
       "                                    team2_roster_ids  toss winner  \\\n",
       "0  2436944.0:8117500.0:6703528.0:3010748.0:161387...  Ud Ss of Aa   \n",
       "1  4690258.0:3761246.0:8464385.0:5742470.0:315072...        Ja Ts   \n",
       "2  2654014.0:2954769.0:8058903.0:3479860.0:329940...        Rn Rs   \n",
       "3  2331475.0:313809.0:391103.0:2742837.0:2097017....     St La Ks   \n",
       "4  1958683.0:7491224.0:3339160.0:5452754.0:225245...        Gt Ts   \n",
       "\n",
       "  toss decision                       venue  ... ground_id  \\\n",
       "0         field                    Bo Ac Cb  ...      3226   \n",
       "1         field                    Pe Sm Ga  ...     13915   \n",
       "2           bat                    Be Sm Mi  ...      2764   \n",
       "3         field  Dn Sy Nl Ct Sm Gs It St La  ...     11892   \n",
       "4         field              Ma Ct An Sm Pe  ...     18752   \n",
       "\n",
       "  team_count_50runs_last15 team_winp_last5 team1only_avg_runs_last15  \\\n",
       "0                 0.000000        0.019608                       NaN   \n",
       "1                 0.615385        0.344262                151.285714   \n",
       "2                 0.842105        0.753086                171.066667   \n",
       "3                 0.285714        1.487805                166.000000   \n",
       "4                 2.375000        0.310330                169.933333   \n",
       "\n",
       "  team1_winp_team2_last15  ground_avg_runs_last15  team1_avg_strike_rate  \\\n",
       "0                    0.00                     NaN             127.696250   \n",
       "1                   66.67                 153.500             120.895835   \n",
       "2                  100.00                 179.625             119.908054   \n",
       "3                   75.00                 155.500             110.809852   \n",
       "4                    0.00                 164.125             121.387657   \n",
       "\n",
       "   team2_avg_strike_rate  team1_avg_economy  team2_avg_economy  \n",
       "0             110.605610           6.707500           8.436944  \n",
       "1             115.088116           8.094824           7.917769  \n",
       "2             115.264369           8.485485           8.224095  \n",
       "3             116.571064           7.582842           8.071719  \n",
       "4             112.850781           8.109003           7.757143  \n",
       "\n",
       "[5 rows x 25 columns]"
      ]
     },
     "execution_count": 99,
     "metadata": {},
     "output_type": "execute_result"
    }
   ],
   "source": [
    "test_data.head()"
   ]
  },
  {
   "cell_type": "code",
   "execution_count": 100,
   "id": "d2b94aa9-1bc1-4f26-b62c-5d25a67d0de0",
   "metadata": {
    "id": "d2b94aa9-1bc1-4f26-b62c-5d25a67d0de0"
   },
   "outputs": [
    {
     "name": "stdout",
     "output_type": "stream",
     "text": [
      "['match id', 'team1_roster_ids', 'team2_roster_ids', 'match_dt', 'winner_id']\n",
      "['match id', 'team1_roster_ids', 'team2_roster_ids', 'match_dt']\n",
      "Index(['match id', 'team1', 'team1_id', 'team1_roster_ids', 'team2',\n",
      "       'team2_id', 'team2_roster_ids', 'winner', 'winner_id', 'toss winner',\n",
      "       'toss decision', 'venue', 'city', 'match_dt', 'lighting', 'series_name',\n",
      "       'season', 'ground_id', 'team_count_50runs_last15', 'team_winp_last5',\n",
      "       'team1only_avg_runs_last15', 'team1_winp_team2_last15',\n",
      "       'ground_avg_runs_last15', 'team1_avg_strike_rate',\n",
      "       'team2_avg_strike_rate', 'team1_avg_economy', 'team2_avg_economy'],\n",
      "      dtype='object')\n",
      "Index(['match id', 'team1', 'team1_id', 'team1_roster_ids', 'team2',\n",
      "       'team2_id', 'team2_roster_ids', 'toss winner', 'toss decision', 'venue',\n",
      "       'city', 'match_dt', 'lighting', 'series_name', 'season', 'ground_id',\n",
      "       'team_count_50runs_last15', 'team_winp_last5',\n",
      "       'team1only_avg_runs_last15', 'team1_winp_team2_last15',\n",
      "       'ground_avg_runs_last15', 'team1_avg_strike_rate',\n",
      "       'team2_avg_strike_rate', 'team1_avg_economy', 'team2_avg_economy'],\n",
      "      dtype='object')\n"
     ]
    }
   ],
   "source": [
    "columns_to_drop_data = ['match id', 'team1_roster_ids', 'team2_roster_ids', 'match_dt', 'winner_id']\n",
    "columns_to_drop_test_data = ['match id', 'team1_roster_ids', 'team2_roster_ids', 'match_dt']\n",
    "print(columns_to_drop_data)\n",
    "print(columns_to_drop_test_data)\n",
    "print(data.columns)\n",
    "print(test_data.columns)\n",
    "data = data.drop(columns=columns_to_drop_data)\n",
    "\n",
    "# Drop the columns from test_data\n",
    "test_data = test_data.drop(columns=[col for col in columns_to_drop_test_data if col in test_data.columns])\n"
   ]
  },
  {
   "cell_type": "code",
   "execution_count": 101,
   "id": "0fb83e56-9fbe-46f9-889c-c61da9bbe4bf",
   "metadata": {
    "id": "0fb83e56-9fbe-46f9-889c-c61da9bbe4bf"
   },
   "outputs": [],
   "source": [
    "# Handle missing values\n",
    "imputer = SimpleImputer(strategy='median')\n",
    "data[['team1only_avg_runs_last15', 'ground_avg_runs_last15']] = imputer.fit_transform(data[['team1only_avg_runs_last15', 'ground_avg_runs_last15']])\n",
    "test_data[['team1only_avg_runs_last15', 'ground_avg_runs_last15']] = imputer.fit_transform(test_data[['team1only_avg_runs_last15', 'ground_avg_runs_last15']])"
   ]
  },
  {
   "cell_type": "code",
   "execution_count": 102,
   "id": "11a93d1f-bfef-4955-9112-e88031d5b290",
   "metadata": {
    "id": "11a93d1f-bfef-4955-9112-e88031d5b290"
   },
   "outputs": [],
   "source": [
    "# Encode categorical variables\n",
    "label_encoder = LabelEncoder()"
   ]
  },
  {
   "cell_type": "code",
   "execution_count": 104,
   "id": "f74dd0cf-ce0c-419f-ac79-26a14fdab39f",
   "metadata": {
    "id": "f74dd0cf-ce0c-419f-ac79-26a14fdab39f"
   },
   "outputs": [],
   "source": [
    "# Binary categorical variables\n",
    "data['winner'] = data.apply(lambda row: 0 if row['winner'] == row['team1'] else 1, axis=1)\n",
    "data['toss winner'] = data.apply(lambda row: 0 if row['toss winner'] == row['team1'] else 1, axis=1)\n",
    "data['toss decision'] = label_encoder.fit_transform(data['toss decision'])\n",
    "data['lighting'] = label_encoder.fit_transform(data['lighting'])\n",
    "\n",
    "test_data['toss winner'] = test_data.apply(lambda row: 0 if row['toss winner'] == row['team1'] else 1, axis=1)\n",
    "test_data['toss decision'] = label_encoder.fit_transform(test_data['toss decision'])\n",
    "test_data['lighting'] = label_encoder.fit_transform(test_data['lighting'])"
   ]
  },
  {
   "cell_type": "code",
   "execution_count": 105,
   "id": "c7487ea1-faa1-4a88-8e18-2e8946473fe5",
   "metadata": {
    "colab": {
     "base_uri": "https://localhost:8080/"
    },
    "id": "c7487ea1-faa1-4a88-8e18-2e8946473fe5",
    "outputId": "9dbeeb08-b630-46b4-d9e9-24ef1435eda9"
   },
   "outputs": [
    {
     "data": {
      "text/plain": [
       "Index(['team1', 'team2', 'venue', 'city', 'series_name', 'season'], dtype='object')"
      ]
     },
     "execution_count": 105,
     "metadata": {},
     "output_type": "execute_result"
    }
   ],
   "source": [
    "categorical_columns = data.select_dtypes(include=['object']).columns\n",
    "categorical_columns"
   ]
  },
  {
   "cell_type": "code",
   "execution_count": 106,
   "id": "31e18cd6-184d-4691-b4c2-9649fda462e4",
   "metadata": {
    "id": "31e18cd6-184d-4691-b4c2-9649fda462e4"
   },
   "outputs": [],
   "source": [
    "label_encoders = {}\n",
    "for col in categorical_columns:\n",
    "    le = LabelEncoder()\n",
    "    data[col] = le.fit_transform(data[col])\n",
    "    label_encoders[col] = le"
   ]
  },
  {
   "cell_type": "code",
   "execution_count": 107,
   "id": "c8fda643-2dce-42b0-9b13-dd0884bb5ba1",
   "metadata": {},
   "outputs": [],
   "source": [
    "test_label_encoders = {}\n",
    "for col in categorical_columns:\n",
    "    test_le = LabelEncoder()\n",
    "    test_data[col] = test_le.fit_transform(test_data[col])\n",
    "    test_label_encoders[col] = test_le"
   ]
  },
  {
   "cell_type": "code",
   "execution_count": 108,
   "id": "3e3b2072-026c-48c4-b9e6-c72e124127e6",
   "metadata": {
    "colab": {
     "base_uri": "https://localhost:8080/"
    },
    "id": "3e3b2072-026c-48c4-b9e6-c72e124127e6",
    "outputId": "57fb4329-be91-4ff4-efc9-05efee889d53"
   },
   "outputs": [
    {
     "name": "stdout",
     "output_type": "stream",
     "text": [
      "     team1  team1_id  team2  team2_id  winner  toss winner  toss decision  \\\n",
      "0        6     11283     43     12634       1            1              1   \n",
      "1       35        20    138        41       1            1              1   \n",
      "2      135     10576     81      8987       1            1              1   \n",
      "3       39     36084     13     36070       1            1              0   \n",
      "4       96     30407     38     48341       1            1              1   \n",
      "..     ...       ...    ...       ...     ...          ...            ...   \n",
      "943     96     30407     15     30414       1            1              1   \n",
      "944     81      8700    114      9701       1            1              1   \n",
      "945      7     22497    136     23869       1            1              0   \n",
      "946    105     30428    113     36014       1            1              0   \n",
      "947     47      7727     33      7608       1            1              1   \n",
      "\n",
      "     venue  city  lighting  ...  ground_id  team_count_50runs_last15  \\\n",
      "0       44    55         1  ...       7398                  1.666667   \n",
      "1       53    13         1  ...       1406                  1.285714   \n",
      "2      111    83         1  ...        251                  0.857143   \n",
      "3       10   105         0  ...      14300                  2.166667   \n",
      "4       75    25         2  ...       7118                  0.818182   \n",
      "..     ...   ...       ...  ...        ...                       ...   \n",
      "943    117    74         2  ...       5004                  0.823529   \n",
      "944    106   106         1  ...       1042                  1.571429   \n",
      "945     98    87         0  ...       1224                  3.000000   \n",
      "946     92    56         2  ...       4661                  0.789474   \n",
      "947     20    16         1  ...       1245                  4.000000   \n",
      "\n",
      "     team_winp_last5  team1only_avg_runs_last15  team1_winp_team2_last15  \\\n",
      "0           0.672131                 139.000000                   100.00   \n",
      "1           1.952381                 156.000000                    50.00   \n",
      "2           0.672131                 173.266667                     0.00   \n",
      "3           1.975610                 164.266667                    50.00   \n",
      "4           1.327869                 164.666667                     0.00   \n",
      "..               ...                        ...                      ...   \n",
      "943         1.000000                 147.333333                    66.67   \n",
      "944         0.012346                 167.400000                     0.00   \n",
      "945         1.000000                 163.125000                     0.00   \n",
      "946         1.487805                 182.800000                    66.67   \n",
      "947         1.975610                 167.333333                   100.00   \n",
      "\n",
      "     ground_avg_runs_last15  team1_avg_strike_rate  team2_avg_strike_rate  \\\n",
      "0                157.178571             106.465429             113.502941   \n",
      "1                103.500000             118.651964             120.160483   \n",
      "2                154.333333             113.645468             118.575772   \n",
      "3                144.250000             124.929145             119.350425   \n",
      "4                189.000000             123.174834             113.393465   \n",
      "..                      ...                    ...                    ...   \n",
      "943              166.400000             121.230952             115.892186   \n",
      "944              170.466667             116.807979             116.704315   \n",
      "945              154.666667             110.229010             106.897907   \n",
      "946              133.375000             122.960000             123.985173   \n",
      "947              164.192308             114.069911              99.053491   \n",
      "\n",
      "     team1_avg_economy  team2_avg_economy  \n",
      "0             7.470105           7.833171  \n",
      "1             8.233013           8.684801  \n",
      "2             8.390508           8.153789  \n",
      "3             8.613475           8.435608  \n",
      "4             8.187529           7.721079  \n",
      "..                 ...                ...  \n",
      "943           8.501781           7.845292  \n",
      "944          10.098700           8.694801  \n",
      "945           7.992429           8.122516  \n",
      "946           7.997188           8.154622  \n",
      "947           8.202300           8.874274  \n",
      "\n",
      "[948 rows x 22 columns]\n"
     ]
    }
   ],
   "source": [
    "print(data)"
   ]
  },
  {
   "cell_type": "code",
   "execution_count": 109,
   "id": "23e8f9d3-506c-4615-b0df-9a3f99dc26b0",
   "metadata": {
    "id": "23e8f9d3-506c-4615-b0df-9a3f99dc26b0"
   },
   "outputs": [],
   "source": [
    "# Multi-class categorical variables\n",
    "#multi_class_cols = ['team1', 'team2', 'venue', 'city', 'series_name', 'season']\n",
    "#data = pd.get_dummies(data, columns=multi_class_cols)"
   ]
  },
  {
   "cell_type": "code",
   "execution_count": 110,
   "id": "62dd714d-8b9f-4bc2-8d4a-6e31a0a9e8fd",
   "metadata": {},
   "outputs": [],
   "source": [
    "X_train = data.drop(['winner'], axis=1)\n",
    "y_train = data['winner']\n",
    "X_test = test_data\n",
    "#y_train = test_data\n"
   ]
  },
  {
   "cell_type": "code",
   "execution_count": 111,
   "id": "f8ec0dfb-f06f-4632-b4df-eba97d5164de",
   "metadata": {},
   "outputs": [
    {
     "name": "stdout",
     "output_type": "stream",
     "text": [
      "0      1\n",
      "1      1\n",
      "2      1\n",
      "3      1\n",
      "4      1\n",
      "      ..\n",
      "943    1\n",
      "944    1\n",
      "945    1\n",
      "946    1\n",
      "947    1\n",
      "Name: winner, Length: 948, dtype: int64\n"
     ]
    }
   ],
   "source": [
    "print(y_train)"
   ]
  },
  {
   "cell_type": "code",
   "execution_count": 112,
   "id": "355d46e6-6f2b-4f0b-a8a5-dc494a0eea93",
   "metadata": {},
   "outputs": [
    {
     "name": "stdout",
     "output_type": "stream",
     "text": [
      "(948, 21)\n",
      "(948,)\n"
     ]
    }
   ],
   "source": [
    "print(X_train.shape)  # Should be (948, n_features)\n",
    "print(y_train.shape)  # Should be (948,)\n"
   ]
  },
  {
   "cell_type": "code",
   "execution_count": 113,
   "id": "6de8702b-1766-4424-8437-0be350adac93",
   "metadata": {
    "id": "6de8702b-1766-4424-8437-0be350adac93"
   },
   "outputs": [],
   "source": [
    "# Define the parameter grid\n",
    "param_grid = {\n",
    "    'max_depth': [3, 5, 7],\n",
    "    'learning_rate': [0.01, 0.1, 0.5],\n",
    "    'n_estimators': [50, 100, 200],\n",
    "    'gamma': [0, 0.1, 0.5],\n",
    "    'subsample': [0.5, 0.8, 1],\n",
    "    'colsample_bytree': [0.5, 0.8, 1],\n",
    "    'reg_alpha': [0, 0.1, 0.5],\n",
    "    'reg_lambda': [0, 0.1, 0.5]\n",
    "}"
   ]
  },
  {
   "cell_type": "code",
   "execution_count": 114,
   "id": "e888bcf4-49e2-4de0-b533-6e688d0c311e",
   "metadata": {
    "id": "e888bcf4-49e2-4de0-b533-6e688d0c311e"
   },
   "outputs": [],
   "source": [
    "# Initialize the model\n",
    "model = XGBClassifier(use_label_encoder=False, eval_metric='logloss')"
   ]
  },
  {
   "cell_type": "code",
   "execution_count": 115,
   "id": "8ec3bf33-68aa-49a8-9809-3fa5ec8ae85a",
   "metadata": {
    "colab": {
     "base_uri": "https://localhost:8080/",
     "height": 116
    },
    "id": "8ec3bf33-68aa-49a8-9809-3fa5ec8ae85a",
    "outputId": "140c9a3e-e05d-4f1a-992f-13cf70acf1d5"
   },
   "outputs": [
    {
     "ename": "ValueError",
     "evalue": "\nAll the 32805 fits failed.\nIt is very likely that your model is misconfigured.\nYou can try to debug the error by setting error_score='raise'.\n\nBelow are more details about the failures:\n--------------------------------------------------------------------------------\n32805 fits failed with the following error:\nTraceback (most recent call last):\n  File \"C:\\Users\\Ritika\\anaconda3\\envs\\cricket\\Lib\\site-packages\\sklearn\\model_selection\\_validation.py\", line 686, in _fit_and_score\n    estimator.fit(X_train, y_train, **fit_params)\n  File \"C:\\Users\\Ritika\\anaconda3\\envs\\cricket\\Lib\\site-packages\\xgboost\\core.py\", line 730, in inner_f\n    return func(**kwargs)\n           ^^^^^^^^^^^^^^\n  File \"C:\\Users\\Ritika\\anaconda3\\envs\\cricket\\Lib\\site-packages\\xgboost\\sklearn.py\", line 1471, in fit\n    raise ValueError(\nValueError: Invalid classes inferred from unique values of `y`.  Expected: [0], got [1]\n",
     "output_type": "error",
     "traceback": [
      "\u001b[1;31m---------------------------------------------------------------------------\u001b[0m",
      "\u001b[1;31mValueError\u001b[0m                                Traceback (most recent call last)",
      "Cell \u001b[1;32mIn[115], line 3\u001b[0m\n\u001b[0;32m      1\u001b[0m \u001b[38;5;66;03m# Perform grid Search\u001b[39;00m\n\u001b[0;32m      2\u001b[0m grid_search \u001b[38;5;241m=\u001b[39m GridSearchCV(model, param_grid, cv\u001b[38;5;241m=\u001b[39m\u001b[38;5;241m5\u001b[39m, scoring\u001b[38;5;241m=\u001b[39m\u001b[38;5;124m'\u001b[39m\u001b[38;5;124maccuracy\u001b[39m\u001b[38;5;124m'\u001b[39m, n_jobs\u001b[38;5;241m=\u001b[39m\u001b[38;5;241m-\u001b[39m\u001b[38;5;241m1\u001b[39m)\n\u001b[1;32m----> 3\u001b[0m \u001b[43mgrid_search\u001b[49m\u001b[38;5;241;43m.\u001b[39;49m\u001b[43mfit\u001b[49m\u001b[43m(\u001b[49m\u001b[43mX_train\u001b[49m\u001b[43m,\u001b[49m\u001b[43m \u001b[49m\u001b[43my_train\u001b[49m\u001b[43m)\u001b[49m\n",
      "File \u001b[1;32m~\\anaconda3\\envs\\cricket\\Lib\\site-packages\\sklearn\\model_selection\\_search.py:875\u001b[0m, in \u001b[0;36mBaseSearchCV.fit\u001b[1;34m(self, X, y, groups, **fit_params)\u001b[0m\n\u001b[0;32m    869\u001b[0m     results \u001b[38;5;241m=\u001b[39m \u001b[38;5;28mself\u001b[39m\u001b[38;5;241m.\u001b[39m_format_results(\n\u001b[0;32m    870\u001b[0m         all_candidate_params, n_splits, all_out, all_more_results\n\u001b[0;32m    871\u001b[0m     )\n\u001b[0;32m    873\u001b[0m     \u001b[38;5;28;01mreturn\u001b[39;00m results\n\u001b[1;32m--> 875\u001b[0m \u001b[38;5;28;43mself\u001b[39;49m\u001b[38;5;241;43m.\u001b[39;49m\u001b[43m_run_search\u001b[49m\u001b[43m(\u001b[49m\u001b[43mevaluate_candidates\u001b[49m\u001b[43m)\u001b[49m\n\u001b[0;32m    877\u001b[0m \u001b[38;5;66;03m# multimetric is determined here because in the case of a callable\u001b[39;00m\n\u001b[0;32m    878\u001b[0m \u001b[38;5;66;03m# self.scoring the return type is only known after calling\u001b[39;00m\n\u001b[0;32m    879\u001b[0m first_test_score \u001b[38;5;241m=\u001b[39m all_out[\u001b[38;5;241m0\u001b[39m][\u001b[38;5;124m\"\u001b[39m\u001b[38;5;124mtest_scores\u001b[39m\u001b[38;5;124m\"\u001b[39m]\n",
      "File \u001b[1;32m~\\anaconda3\\envs\\cricket\\Lib\\site-packages\\sklearn\\model_selection\\_search.py:1389\u001b[0m, in \u001b[0;36mGridSearchCV._run_search\u001b[1;34m(self, evaluate_candidates)\u001b[0m\n\u001b[0;32m   1387\u001b[0m \u001b[38;5;28;01mdef\u001b[39;00m \u001b[38;5;21m_run_search\u001b[39m(\u001b[38;5;28mself\u001b[39m, evaluate_candidates):\n\u001b[0;32m   1388\u001b[0m \u001b[38;5;250m    \u001b[39m\u001b[38;5;124;03m\"\"\"Search all candidates in param_grid\"\"\"\u001b[39;00m\n\u001b[1;32m-> 1389\u001b[0m     \u001b[43mevaluate_candidates\u001b[49m\u001b[43m(\u001b[49m\u001b[43mParameterGrid\u001b[49m\u001b[43m(\u001b[49m\u001b[38;5;28;43mself\u001b[39;49m\u001b[38;5;241;43m.\u001b[39;49m\u001b[43mparam_grid\u001b[49m\u001b[43m)\u001b[49m\u001b[43m)\u001b[49m\n",
      "File \u001b[1;32m~\\anaconda3\\envs\\cricket\\Lib\\site-packages\\sklearn\\model_selection\\_search.py:852\u001b[0m, in \u001b[0;36mBaseSearchCV.fit.<locals>.evaluate_candidates\u001b[1;34m(candidate_params, cv, more_results)\u001b[0m\n\u001b[0;32m    845\u001b[0m \u001b[38;5;28;01melif\u001b[39;00m \u001b[38;5;28mlen\u001b[39m(out) \u001b[38;5;241m!=\u001b[39m n_candidates \u001b[38;5;241m*\u001b[39m n_splits:\n\u001b[0;32m    846\u001b[0m     \u001b[38;5;28;01mraise\u001b[39;00m \u001b[38;5;167;01mValueError\u001b[39;00m(\n\u001b[0;32m    847\u001b[0m         \u001b[38;5;124m\"\u001b[39m\u001b[38;5;124mcv.split and cv.get_n_splits returned \u001b[39m\u001b[38;5;124m\"\u001b[39m\n\u001b[0;32m    848\u001b[0m         \u001b[38;5;124m\"\u001b[39m\u001b[38;5;124minconsistent results. Expected \u001b[39m\u001b[38;5;132;01m{}\u001b[39;00m\u001b[38;5;124m \u001b[39m\u001b[38;5;124m\"\u001b[39m\n\u001b[0;32m    849\u001b[0m         \u001b[38;5;124m\"\u001b[39m\u001b[38;5;124msplits, got \u001b[39m\u001b[38;5;132;01m{}\u001b[39;00m\u001b[38;5;124m\"\u001b[39m\u001b[38;5;241m.\u001b[39mformat(n_splits, \u001b[38;5;28mlen\u001b[39m(out) \u001b[38;5;241m/\u001b[39m\u001b[38;5;241m/\u001b[39m n_candidates)\n\u001b[0;32m    850\u001b[0m     )\n\u001b[1;32m--> 852\u001b[0m \u001b[43m_warn_or_raise_about_fit_failures\u001b[49m\u001b[43m(\u001b[49m\u001b[43mout\u001b[49m\u001b[43m,\u001b[49m\u001b[43m \u001b[49m\u001b[38;5;28;43mself\u001b[39;49m\u001b[38;5;241;43m.\u001b[39;49m\u001b[43merror_score\u001b[49m\u001b[43m)\u001b[49m\n\u001b[0;32m    854\u001b[0m \u001b[38;5;66;03m# For callable self.scoring, the return type is only know after\u001b[39;00m\n\u001b[0;32m    855\u001b[0m \u001b[38;5;66;03m# calling. If the return type is a dictionary, the error scores\u001b[39;00m\n\u001b[0;32m    856\u001b[0m \u001b[38;5;66;03m# can now be inserted with the correct key. The type checking\u001b[39;00m\n\u001b[0;32m    857\u001b[0m \u001b[38;5;66;03m# of out will be done in `_insert_error_scores`.\u001b[39;00m\n\u001b[0;32m    858\u001b[0m \u001b[38;5;28;01mif\u001b[39;00m \u001b[38;5;28mcallable\u001b[39m(\u001b[38;5;28mself\u001b[39m\u001b[38;5;241m.\u001b[39mscoring):\n",
      "File \u001b[1;32m~\\anaconda3\\envs\\cricket\\Lib\\site-packages\\sklearn\\model_selection\\_validation.py:367\u001b[0m, in \u001b[0;36m_warn_or_raise_about_fit_failures\u001b[1;34m(results, error_score)\u001b[0m\n\u001b[0;32m    360\u001b[0m \u001b[38;5;28;01mif\u001b[39;00m num_failed_fits \u001b[38;5;241m==\u001b[39m num_fits:\n\u001b[0;32m    361\u001b[0m     all_fits_failed_message \u001b[38;5;241m=\u001b[39m (\n\u001b[0;32m    362\u001b[0m         \u001b[38;5;124mf\u001b[39m\u001b[38;5;124m\"\u001b[39m\u001b[38;5;130;01m\\n\u001b[39;00m\u001b[38;5;124mAll the \u001b[39m\u001b[38;5;132;01m{\u001b[39;00mnum_fits\u001b[38;5;132;01m}\u001b[39;00m\u001b[38;5;124m fits failed.\u001b[39m\u001b[38;5;130;01m\\n\u001b[39;00m\u001b[38;5;124m\"\u001b[39m\n\u001b[0;32m    363\u001b[0m         \u001b[38;5;124m\"\u001b[39m\u001b[38;5;124mIt is very likely that your model is misconfigured.\u001b[39m\u001b[38;5;130;01m\\n\u001b[39;00m\u001b[38;5;124m\"\u001b[39m\n\u001b[0;32m    364\u001b[0m         \u001b[38;5;124m\"\u001b[39m\u001b[38;5;124mYou can try to debug the error by setting error_score=\u001b[39m\u001b[38;5;124m'\u001b[39m\u001b[38;5;124mraise\u001b[39m\u001b[38;5;124m'\u001b[39m\u001b[38;5;124m.\u001b[39m\u001b[38;5;130;01m\\n\u001b[39;00m\u001b[38;5;130;01m\\n\u001b[39;00m\u001b[38;5;124m\"\u001b[39m\n\u001b[0;32m    365\u001b[0m         \u001b[38;5;124mf\u001b[39m\u001b[38;5;124m\"\u001b[39m\u001b[38;5;124mBelow are more details about the failures:\u001b[39m\u001b[38;5;130;01m\\n\u001b[39;00m\u001b[38;5;132;01m{\u001b[39;00mfit_errors_summary\u001b[38;5;132;01m}\u001b[39;00m\u001b[38;5;124m\"\u001b[39m\n\u001b[0;32m    366\u001b[0m     )\n\u001b[1;32m--> 367\u001b[0m     \u001b[38;5;28;01mraise\u001b[39;00m \u001b[38;5;167;01mValueError\u001b[39;00m(all_fits_failed_message)\n\u001b[0;32m    369\u001b[0m \u001b[38;5;28;01melse\u001b[39;00m:\n\u001b[0;32m    370\u001b[0m     some_fits_failed_message \u001b[38;5;241m=\u001b[39m (\n\u001b[0;32m    371\u001b[0m         \u001b[38;5;124mf\u001b[39m\u001b[38;5;124m\"\u001b[39m\u001b[38;5;130;01m\\n\u001b[39;00m\u001b[38;5;132;01m{\u001b[39;00mnum_failed_fits\u001b[38;5;132;01m}\u001b[39;00m\u001b[38;5;124m fits failed out of a total of \u001b[39m\u001b[38;5;132;01m{\u001b[39;00mnum_fits\u001b[38;5;132;01m}\u001b[39;00m\u001b[38;5;124m.\u001b[39m\u001b[38;5;130;01m\\n\u001b[39;00m\u001b[38;5;124m\"\u001b[39m\n\u001b[0;32m    372\u001b[0m         \u001b[38;5;124m\"\u001b[39m\u001b[38;5;124mThe score on these train-test partitions for these parameters\u001b[39m\u001b[38;5;124m\"\u001b[39m\n\u001b[1;32m   (...)\u001b[0m\n\u001b[0;32m    376\u001b[0m         \u001b[38;5;124mf\u001b[39m\u001b[38;5;124m\"\u001b[39m\u001b[38;5;124mBelow are more details about the failures:\u001b[39m\u001b[38;5;130;01m\\n\u001b[39;00m\u001b[38;5;132;01m{\u001b[39;00mfit_errors_summary\u001b[38;5;132;01m}\u001b[39;00m\u001b[38;5;124m\"\u001b[39m\n\u001b[0;32m    377\u001b[0m     )\n",
      "\u001b[1;31mValueError\u001b[0m: \nAll the 32805 fits failed.\nIt is very likely that your model is misconfigured.\nYou can try to debug the error by setting error_score='raise'.\n\nBelow are more details about the failures:\n--------------------------------------------------------------------------------\n32805 fits failed with the following error:\nTraceback (most recent call last):\n  File \"C:\\Users\\Ritika\\anaconda3\\envs\\cricket\\Lib\\site-packages\\sklearn\\model_selection\\_validation.py\", line 686, in _fit_and_score\n    estimator.fit(X_train, y_train, **fit_params)\n  File \"C:\\Users\\Ritika\\anaconda3\\envs\\cricket\\Lib\\site-packages\\xgboost\\core.py\", line 730, in inner_f\n    return func(**kwargs)\n           ^^^^^^^^^^^^^^\n  File \"C:\\Users\\Ritika\\anaconda3\\envs\\cricket\\Lib\\site-packages\\xgboost\\sklearn.py\", line 1471, in fit\n    raise ValueError(\nValueError: Invalid classes inferred from unique values of `y`.  Expected: [0], got [1]\n"
     ]
    }
   ],
   "source": [
    "# Perform grid Search\n",
    "grid_search = GridSearchCV(model, param_grid, cv=5, scoring='accuracy', n_jobs=-1)\n",
    "grid_search.fit(X_train, y_train)"
   ]
  },
  {
   "cell_type": "code",
   "execution_count": null,
   "id": "9da677a9-046b-4044-a4ef-757a584ea30e",
   "metadata": {
    "id": "9da677a9-046b-4044-a4ef-757a584ea30e"
   },
   "outputs": [],
   "source": [
    "# Best model\n",
    "best_model = grid_search.best_estimator_"
   ]
  },
  {
   "cell_type": "code",
   "execution_count": null,
   "id": "3d0ccc3f-d364-4d4c-a8ff-4eb63aff3655",
   "metadata": {
    "id": "3d0ccc3f-d364-4d4c-a8ff-4eb63aff3655"
   },
   "outputs": [],
   "source": [
    "# Make predictions\n",
    "y_pred_train = best_model.predict(X_train)\n",
    "y_pred_test = best_model.predict(X_test)"
   ]
  },
  {
   "cell_type": "code",
   "execution_count": null,
   "id": "06f163e0-3a92-4a1f-b29d-8ab772b8dba2",
   "metadata": {
    "colab": {
     "base_uri": "https://localhost:8080/"
    },
    "id": "06f163e0-3a92-4a1f-b29d-8ab772b8dba2",
    "outputId": "46f8bcf3-202c-4b4c-b3d8-78e8fe1f2188"
   },
   "outputs": [],
   "source": [
    "# Evaluate the model\n",
    "accuracy = accuracy_score(y_train, y_pred_train)\n",
    "print(f'Accuracy: {accuracy * 100:.2f}%')"
   ]
  },
  {
   "cell_type": "code",
   "execution_count": null,
   "id": "f40d4057-1b6b-41fb-aa89-1c866a948ad3",
   "metadata": {
    "id": "f40d4057-1b6b-41fb-aa89-1c866a948ad3"
   },
   "outputs": [],
   "source": [
    "\n",
    "# Print feature importances\n",
    "feature_importances = best_model.feature_importances_\n",
    "feature_names = X.columns\n",
    "\n"
   ]
  },
  {
   "cell_type": "code",
   "execution_count": null,
   "id": "8mYSywV12pGT",
   "metadata": {
    "id": "8mYSywV12pGT"
   },
   "outputs": [],
   "source": [
    "# Create a DataFrame with feature names and their corresponding importances\n",
    "importance_df = pd.DataFrame({'Feature': feature_names, 'Importance': feature_importances})\n"
   ]
  },
  {
   "cell_type": "code",
   "execution_count": null,
   "id": "PykoyJ0B2qfL",
   "metadata": {
    "colab": {
     "base_uri": "https://localhost:8080/"
    },
    "id": "PykoyJ0B2qfL",
    "outputId": "6f379408-7629-4741-cf9b-6f487f568485"
   },
   "outputs": [],
   "source": [
    "\n",
    "# Sort the DataFrame by importance in descending order\n",
    "importance_df = importance_df.sort_values('Importance', ascending=False)\n",
    "\n",
    "# Print the feature importances\n",
    "print(\"Feature Importances:\")\n",
    "print(importance_df)"
   ]
  },
  {
   "cell_type": "code",
   "execution_count": null,
   "id": "wg92z0955CFp",
   "metadata": {
    "id": "wg92z0955CFp"
   },
   "outputs": [],
   "source": []
  },
  {
   "cell_type": "code",
   "execution_count": null,
   "id": "4vQlYGQLlQ3F",
   "metadata": {
    "id": "4vQlYGQLlQ3F"
   },
   "outputs": [],
   "source": [
    "\n"
   ]
  }
 ],
 "metadata": {
  "colab": {
   "provenance": []
  },
  "kernelspec": {
   "display_name": "Python 3 (ipykernel)",
   "language": "python",
   "name": "python3"
  },
  "language_info": {
   "codemirror_mode": {
    "name": "ipython",
    "version": 3
   },
   "file_extension": ".py",
   "mimetype": "text/x-python",
   "name": "python",
   "nbconvert_exporter": "python",
   "pygments_lexer": "ipython3",
   "version": "3.11.9"
  }
 },
 "nbformat": 4,
 "nbformat_minor": 5
}
